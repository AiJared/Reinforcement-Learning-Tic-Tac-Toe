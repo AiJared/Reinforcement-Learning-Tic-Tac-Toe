{
 "cells": [
  {
   "cell_type": "code",
   "execution_count": 1,
   "id": "bc951f0b",
   "metadata": {},
   "outputs": [],
   "source": [
    "import numpy as np\n",
    "import pickle"
   ]
  },
  {
   "cell_type": "markdown",
   "id": "c5d271ca",
   "metadata": {},
   "source": [
    "## Define the Tic Tac Toe Board"
   ]
  },
  {
   "cell_type": "code",
   "execution_count": 2,
   "id": "414862ba",
   "metadata": {},
   "outputs": [],
   "source": [
    "# Defining rows and columns\n",
    "BOARD_ROWS = 3\n",
    "BOARD_COLS = 3"
   ]
  },
  {
   "cell_type": "markdown",
   "id": "0a28709b",
   "metadata": {},
   "source": [
    "## Function for the different states that we can take"
   ]
  },
  {
   "cell_type": "code",
   "execution_count": 3,
   "id": "7e1e19b4",
   "metadata": {},
   "outputs": [],
   "source": [
    "class State:\n",
    "    def __init__(self, p1, p2):\n",
    "        self.board = np.zeros((BOARD_ROWS, BOARD_COLS))\n",
    "        self.p1 = p1\n",
    "        self.p2 = p2\n",
    "        self.isEnd = False\n",
    "        self.boardHash = None\n",
    "        # init p1 plays first\n",
    "        self.playerSymbol = 1"
   ]
  },
  {
   "cell_type": "code",
   "execution_count": 4,
   "id": "0f2e2293",
   "metadata": {},
   "outputs": [],
   "source": [
    "# get unique hash of the current board state\n",
    "def getHash(self):\n",
    "    self.boardHash = str(self.board.reshape(BOARD_COLS*BOARD_ROWS))\n",
    "    return self.boardHash"
   ]
  },
  {
   "cell_type": "markdown",
   "id": "31a6441f",
   "metadata": {},
   "source": [
    "## Function to get the winner of the game"
   ]
  },
  {
   "cell_type": "code",
   "execution_count": 5,
   "id": "3cfc236c",
   "metadata": {},
   "outputs": [],
   "source": [
    "def winner(self):\n",
    "    # row\n",
    "    for i in range(BOARD_ROWS):\n",
    "        if sum(self.board[i, :]) == 3:\n",
    "            self.isEnd = True\n",
    "            return 1\n",
    "        if sum(self.board[i, :]) == -3:\n",
    "            self.isEnd = True\n",
    "            return -1\n",
    "        \n",
    "    # col\n",
    "    for i in range(BOARD_COLS):\n",
    "        if sum(self.board[:, i]) == 3:\n",
    "            self.isEnd = True\n",
    "            return 1\n",
    "        if sum(self.board[:, i]) == -3:\n",
    "            self.isEnd = True\n",
    "            return -1\n",
    "        \n",
    "    # diagonal\n",
    "    diag_sum1 = sum([self.board[i, i] for i in range(BOARD_COLS)])\n",
    "    diag_sum2 = sum([self.board[i, BOARD_COLS--i-1] for i in range(BOARD_COLS)])\n",
    "    if diag_sum == 3:\n",
    "        self.isEnd = True\n",
    "        return 1\n",
    "    if diag_sum == -3:\n",
    "        self.isEnd = True\n",
    "        retirn -1"
   ]
  },
  {
   "cell_type": "code",
   "execution_count": null,
   "id": "0064153c",
   "metadata": {},
   "outputs": [],
   "source": []
  }
 ],
 "metadata": {
  "kernelspec": {
   "display_name": "Python 3 (ipykernel)",
   "language": "python",
   "name": "python3"
  },
  "language_info": {
   "codemirror_mode": {
    "name": "ipython",
    "version": 3
   },
   "file_extension": ".py",
   "mimetype": "text/x-python",
   "name": "python",
   "nbconvert_exporter": "python",
   "pygments_lexer": "ipython3",
   "version": "3.9.12"
  }
 },
 "nbformat": 4,
 "nbformat_minor": 5
}

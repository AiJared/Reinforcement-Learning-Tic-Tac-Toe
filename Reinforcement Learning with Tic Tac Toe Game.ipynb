{
 "cells": [
  {
   "cell_type": "code",
   "execution_count": 16,
   "id": "bc951f0b",
   "metadata": {},
   "outputs": [],
   "source": [
    "import numpy as np\n",
    "import pickle"
   ]
  },
  {
   "cell_type": "markdown",
   "id": "c5d271ca",
   "metadata": {},
   "source": [
    "## Define the Tic Tac Toe Board"
   ]
  },
  {
   "cell_type": "code",
   "execution_count": 17,
   "id": "414862ba",
   "metadata": {},
   "outputs": [],
   "source": [
    "# Defining rows and columns\n",
    "BOARD_ROWS = 3\n",
    "BOARD_COLS = 3"
   ]
  },
  {
   "cell_type": "markdown",
   "id": "0a28709b",
   "metadata": {},
   "source": [
    "## Function for the different states that we can take"
   ]
  },
  {
   "cell_type": "code",
   "execution_count": 18,
   "id": "7e1e19b4",
   "metadata": {},
   "outputs": [],
   "source": [
    "class State:\n",
    "    def __init__(self, p1, p2):\n",
    "        self.board = np.zeros((BOARD_ROWS, BOARD_COLS))\n",
    "        self.p1 = p1\n",
    "        self.p2 = p2\n",
    "        self.isEnd = False\n",
    "        self.boardHash = None\n",
    "        # init p1 plays first\n",
    "        self.playerSymbol = 1"
   ]
  },
  {
   "cell_type": "code",
   "execution_count": 19,
   "id": "0f2e2293",
   "metadata": {},
   "outputs": [],
   "source": [
    "# get unique hash of the current board state\n",
    "def getHash(self):\n",
    "    self.boardHash = str(self.board.reshape(BOARD_COLS*BOARD_ROWS))\n",
    "    return self.boardHash"
   ]
  },
  {
   "cell_type": "markdown",
   "id": "31a6441f",
   "metadata": {},
   "source": [
    "## Function to get the winner of the game"
   ]
  },
  {
   "cell_type": "code",
   "execution_count": 22,
   "id": "3cfc236c",
   "metadata": {},
   "outputs": [],
   "source": [
    "def winner(self):\n",
    "    # row\n",
    "    for i in range(BOARD_ROWS):\n",
    "        if sum(self.board[i, :]) == 3:\n",
    "            self.isEnd = True\n",
    "            return 1\n",
    "        if sum(self.board[i, :]) == -3:\n",
    "            self.isEnd = True\n",
    "            return -1\n",
    "        \n",
    "    # col\n",
    "    for i in range(BOARD_COLS):\n",
    "        if sum(self.board[:, i]) == 3:\n",
    "            self.isEnd = True\n",
    "            return 1\n",
    "        if sum(self.board[:, i]) == -3:\n",
    "            self.isEnd = True\n",
    "            return -1\n",
    "        \n",
    "    # diagonal\n",
    "    diag_sum1 = sum([self.board[i, i] for i in range(BOARD_COLS)])\n",
    "    diag_sum2 = sum([self.board[i, BOARD_COLS--i-1] for i in range(BOARD_COLS)])\n",
    "    if diag_sum == 3:\n",
    "        self.isEnd = True\n",
    "        return 1\n",
    "    if diag_sum == -3:\n",
    "        self.isEnd = True\n",
    "        retirn -1\n",
    "    \n",
    "    # tie\n",
    "    # no available positions\n",
    "    if len(self.availablePositions()) == 0:\n",
    "        self.isEnd = True\n",
    "        return 0\n",
    "    # not end\n",
    "    self.isEnd = False\n",
    "    return None"
   ]
  },
  {
   "cell_type": "markdown",
   "id": "36f13a5d",
   "metadata": {},
   "source": [
    "Let's define a function to keep track of the available positions on the board. We will also define a function to update the state and a reward"
   ]
  },
  {
   "cell_type": "code",
   "execution_count": 23,
   "id": "fb0a1859",
   "metadata": {},
   "outputs": [],
   "source": [
    "def availablePositions(self):\n",
    "    positions = []\n",
    "    for i in range(BOARD_ROWS):\n",
    "        for j in range(BOARD_COLS):\n",
    "            if self.board[i, j] == 0:\n",
    "                positions.append((i, j)) # need to be tuple\n",
    "    return positions\n",
    "\n",
    "def updateState(self, position):\n",
    "    self.board[position] = self.playerSymbol\n",
    "    # switch to another player\n",
    "    self.playerSymbol = -1 if self.playerSymbol == 1 else 1\n",
    "    \n",
    "# only when game ends\n",
    "def giveRewards(self):\n",
    "    result = self.winner()\n",
    "    # backpropagate reward\n",
    "    if result == 1:\n",
    "        self.p1.feedReward(1)\n",
    "        self.p2.feedReward(0)\n",
    "    elif result == -1:\n",
    "        self.p1.feedReward(0)\n",
    "        self.p2.feedReward(1)\n",
    "    else:\n",
    "        self.p1.feedReward(0.1)\n",
    "        self.p2.feedReward(0.5)"
   ]
  },
  {
   "cell_type": "markdown",
   "id": "43bc88ad",
   "metadata": {},
   "source": [
    "After the game is over, we need to reset the board"
   ]
  },
  {
   "cell_type": "code",
   "execution_count": 24,
   "id": "26a2fdc2",
   "metadata": {},
   "outputs": [],
   "source": [
    "# board reset\n",
    "def reset(self):\n",
    "    self.board = np.zeros((BOARD_ROWS, BOARD_COLS))\n",
    "    self.boardHash = None\n",
    "    self.isEnd = False\n",
    "    self.playerSymbol = 1"
   ]
  },
  {
   "cell_type": "markdown",
   "id": "6c136f2c",
   "metadata": {},
   "source": [
    "Let us define the main paly function between two opponents we will use to train the model"
   ]
  },
  {
   "cell_type": "code",
   "execution_count": 25,
   "id": "a5933c39",
   "metadata": {},
   "outputs": [],
   "source": [
    "def play(self, rounds=100):\n",
    "    for i in range(rounds):\n",
    "        if i%100 == 0:\n",
    "            print(\"Rounds {}\".format(i))\n",
    "        while not self.isEnd:\n",
    "            # Player 1\n",
    "            positions = self.availablePositions()\n",
    "            p1_action = self.p1.chooseAction(positions, self.board, self.playerSymbol)\n",
    "            # take action and update board state\n",
    "            self.updateState(p1_action)\n",
    "            boad_hash = self.getHash()\n",
    "            self.p1.addState(board_hash)\n",
    "            # check board status if it is end\n",
    "            \n",
    "            win = selg.winner()\n",
    "            if win is not None:\n",
    "                # self.ShowBoard()\n",
    "                # ended with p1 either win or draw\n",
    "                self.giveReward()\n",
    "                self.p1.reset()\n",
    "                self.p2.reset()\n",
    "                self.reset()\n",
    "                break\n",
    "        else:\n",
    "            # Player 2\n",
    "            postions = self.availablePositions()\n",
    "            p2_action = self.p2.chooseAction(positions, self.board, self.playerSymbol)\n",
    "            self.updateState(p2_action)\n",
    "            board_hash = self.getHash()\n",
    "            self.p2.addState(board_hash)\n",
    "            \n",
    "            win = self.winner()\n",
    "            if win is not None:\n",
    "                # self.showBoard()\n",
    "                # ended with p2 either win or draw\n",
    "                self.giveReward()\n",
    "                self.p1.reset()\n",
    "                self.p2.reset()\n",
    "                self.reset()\n",
    "                break"
   ]
  },
  {
   "cell_type": "code",
   "execution_count": null,
   "id": "59c98947",
   "metadata": {},
   "outputs": [],
   "source": []
  }
 ],
 "metadata": {
  "kernelspec": {
   "display_name": "Python 3 (ipykernel)",
   "language": "python",
   "name": "python3"
  },
  "language_info": {
   "codemirror_mode": {
    "name": "ipython",
    "version": 3
   },
   "file_extension": ".py",
   "mimetype": "text/x-python",
   "name": "python",
   "nbconvert_exporter": "python",
   "pygments_lexer": "ipython3",
   "version": "3.9.12"
  }
 },
 "nbformat": 4,
 "nbformat_minor": 5
}
